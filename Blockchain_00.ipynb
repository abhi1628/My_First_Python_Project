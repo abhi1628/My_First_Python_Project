{
  "nbformat": 4,
  "nbformat_minor": 0,
  "metadata": {
    "colab": {
      "provenance": [],
      "authorship_tag": "ABX9TyP1/F+cXl8qOBBOoluakm8i",
      "include_colab_link": true
    },
    "kernelspec": {
      "name": "python3",
      "display_name": "Python 3"
    },
    "language_info": {
      "name": "python"
    }
  },
  "cells": [
    {
      "cell_type": "markdown",
      "metadata": {
        "id": "view-in-github",
        "colab_type": "text"
      },
      "source": [
        "<a href=\"https://colab.research.google.com/github/abhi1628/My_First_Python_Project/blob/main/Blockchain_00.ipynb\" target=\"_parent\"><img src=\"https://colab.research.google.com/assets/colab-badge.svg\" alt=\"Open In Colab\"/></a>"
      ]
    },
    {
      "cell_type": "code",
      "execution_count": null,
      "metadata": {
        "id": "IfU_viIkwGJp"
      },
      "outputs": [],
      "source": [
        "from hashlib import sha256"
      ]
    },
    {
      "cell_type": "code",
      "source": [
        "max_nonce = 10000000000\n",
        "def SHA256(text):\n",
        "  return sha256(text.encode('ascii')).hexdigest()"
      ],
      "metadata": {
        "id": "eJ3x-8TKwaL3"
      },
      "execution_count": null,
      "outputs": []
    },
    {
      "cell_type": "code",
      "source": [
        "def mine(block_number, transaction, previous_hash, prefix_zeros):\n",
        "  prefix_str = '0' * prefix_zeros\n",
        "  for nonce in range (max_nonce):\n",
        "    text = str(block_number) + transaction + str(previous_hash) + str(nonce)\n",
        "    new_hash = SHA256(text)\n",
        "    if new_hash.startswith(prefix_str):\n",
        "      print(f'Successfully mined Bitcoin with nonce value:{nonce}')\n",
        "      return new_hash\n",
        "\n",
        "  raise BaseException (f\"Could'nt find correct hash after trying {max_nonce} times\" )"
      ],
      "metadata": {
        "id": "oQhVUV8Fw09M"
      },
      "execution_count": null,
      "outputs": []
    },
    {
      "cell_type": "code",
      "source": [
        "if __name__ == '__main__':\n",
        "  transaction = '''\n",
        "  Abhishek --> Zohaib,\n",
        "  Zohaib --> Nirdesh,\n",
        "  Nirdesh --> Raj\n",
        "  '''\n",
        "  difficulty = 4\n",
        "  import time\n",
        "  start = time.time()\n",
        "  print('Start Mining')\n",
        "  new_hash = mine(2, transaction, (0x00000000019d6689c085ae165831e934ff763ae46a2a6c172b3f1b60a8ce26f), difficulty)\n",
        "  total_time = str(time.time() - start)\n",
        "  print(f'End Mining in {total_time} seconds')\n",
        "  print(new_hash)"
      ],
      "metadata": {
        "colab": {
          "base_uri": "https://localhost:8080/"
        },
        "id": "QG1HwRFnyedS",
        "outputId": "48239403-2350-4333-e804-5c54b63c2f2b"
      },
      "execution_count": null,
      "outputs": [
        {
          "output_type": "stream",
          "name": "stdout",
          "text": [
            "Start Mining\n",
            "Successfully mined Bitcoin with nonce value:74661\n",
            "End Mining in 0.1988816261291504 seconds\n",
            "000034cee5c92a13070426e6877a3ca0ddeae222abc5823d16100ca0fcc25aec\n"
          ]
        }
      ]
    },
    {
      "cell_type": "markdown",
      "source": [
        "## Genesis Block Statement: The Times 03/Jan/2009 Chancellor on brink of second bailout for banks."
      ],
      "metadata": {
        "id": "sKn99tUn_hbe"
      }
    },
    {
      "cell_type": "code",
      "source": [],
      "metadata": {
        "id": "Bmc3P-4F_f9Y"
      },
      "execution_count": null,
      "outputs": []
    }
  ]
}